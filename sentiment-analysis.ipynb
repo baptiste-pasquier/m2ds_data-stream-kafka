{
 "cells": [
  {
   "cell_type": "code",
   "execution_count": 1,
   "metadata": {},
   "outputs": [],
   "source": [
    "from m2ds_data_stream_kafka.sentiment_analysis import (\n",
    "    positive_negative_words,\n",
    "    text_preprocessing,\n",
    "    classify_sentiment,\n",
    ")"
   ]
  },
  {
   "cell_type": "code",
   "execution_count": 2,
   "metadata": {},
   "outputs": [],
   "source": [
    "POSITIVE_WORDS, NEGATIVE_WORDS = positive_negative_words(\"data/\")"
   ]
  },
  {
   "cell_type": "code",
   "execution_count": 3,
   "metadata": {},
   "outputs": [
    {
     "name": "stdout",
     "output_type": "stream",
     "text": [
      "['plus', 'comme', 'premier', 'bien', 'groupe']\n",
      "['a+', 'abound', 'abounds', 'abundance', 'abundant']\n",
      "['sur', 'tres', 'tout', 'contre', 'faire']\n",
      "['2-faced', '2-faces', 'abnormal', 'abolish', 'abominable']\n"
     ]
    }
   ],
   "source": [
    "N = 5\n",
    "print(POSITIVE_WORDS[\"french\"][:N])\n",
    "print(POSITIVE_WORDS[\"english\"][:N])\n",
    "print(NEGATIVE_WORDS[\"french\"][:N])\n",
    "print(NEGATIVE_WORDS[\"english\"][:N])"
   ]
  },
  {
   "cell_type": "code",
   "execution_count": 4,
   "metadata": {},
   "outputs": [
    {
     "name": "stdout",
     "output_type": "stream",
     "text": [
      "rt positivity rate united states week covid every test positive utterly mind blowing covid\n"
     ]
    }
   ],
   "source": [
    "english_string = \"RT @joaquinlife: 36% positivity rate in the United States this week for COVID — more than 1/3 of every test is positive. Utterly mind-blowing. #covid https://www.google.com/\"\n",
    "preprocessed_english_string = text_preprocessing(english_string, \"english\")\n",
    "print(preprocessed_english_string)"
   ]
  },
  {
   "cell_type": "code",
   "execution_count": 5,
   "metadata": {},
   "outputs": [
    {
     "name": "stdout",
     "output_type": "stream",
     "text": [
      "rt taux positivite etats unis cette semaine covid plus tests positifs completement epoustouflant covid\n"
     ]
    }
   ],
   "source": [
    "french_string = \"RT @joaquinlife : 36 % de taux de positivité aux États-Unis cette semaine pour le COVID — plus d'1/3 des tests sont positifs. Complètement époustouflant. #covid https://www.google.com/\"\n",
    "preprocessed_french_string = text_preprocessing(french_string, \"french\")\n",
    "print(preprocessed_french_string)"
   ]
  },
  {
   "cell_type": "code",
   "execution_count": 6,
   "metadata": {},
   "outputs": [
    {
     "data": {
      "text/plain": [
       "'Positive'"
      ]
     },
     "execution_count": 6,
     "metadata": {},
     "output_type": "execute_result"
    }
   ],
   "source": [
    "classify_sentiment(\n",
    "    preprocessed_english_string, \"english\", POSITIVE_WORDS, NEGATIVE_WORDS\n",
    ")"
   ]
  },
  {
   "cell_type": "code",
   "execution_count": 7,
   "metadata": {},
   "outputs": [
    {
     "data": {
      "text/plain": [
       "'Positive'"
      ]
     },
     "execution_count": 7,
     "metadata": {},
     "output_type": "execute_result"
    }
   ],
   "source": [
    "classify_sentiment(preprocessed_french_string, \"french\", POSITIVE_WORDS, NEGATIVE_WORDS)"
   ]
  }
 ],
 "metadata": {
  "kernelspec": {
   "display_name": "Python 3.10.7 ('m2ds-data-stream-kafka-8CgOOEr--py3.10')",
   "language": "python",
   "name": "python3"
  },
  "language_info": {
   "codemirror_mode": {
    "name": "ipython",
    "version": 3
   },
   "file_extension": ".py",
   "mimetype": "text/x-python",
   "name": "python",
   "nbconvert_exporter": "python",
   "pygments_lexer": "ipython3",
   "version": "3.10.7"
  },
  "orig_nbformat": 4,
  "vscode": {
   "interpreter": {
    "hash": "4490569d04da8e02900aa32c9bb69513f9cff7706c7056315fc1702bbd4c78a7"
   }
  }
 },
 "nbformat": 4,
 "nbformat_minor": 2
}
